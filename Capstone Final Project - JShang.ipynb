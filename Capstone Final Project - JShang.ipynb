{
    "cells": [
        {
            "cell_type": "markdown",
            "metadata": {},
            "source": "<h1 align=center><font size = 5>Coursera Applied Data Science Capstone Project: Battle of the Neighborhoods</font></h1>"
        },
        {
            "cell_type": "markdown",
            "metadata": {},
            "source": "## Introduction\n\n*Clearly define a problem or an idea of your choice, where you would need to leverage the Foursquare location data to solve or execute. Remember that data science problems always target an audience and are meant to help a group of stakeholders solve a problem, so make sure that you explicitly describe your audience and why they would care about your problem.*\n\n**Currently, the COVID-19 virus has spread across the globe, resulting in the latest pandemic. Since March 2020, New York City has seen rapid increase in confirmed cases, leading to a \"shelter in place\" order issued by the state officials. This means that healthy or sick, all New Yorkers must stay home unless they are essential workers or need urgent health care. All non-essential businesses that are normally open to the public must remain closed. Which neighborhoods are more affected by the latest orders? It would be helpful to understand which businesses are closed / remain open, in order to better redirect resources to support each of the neighborhoods.**"
        },
        {
            "cell_type": "markdown",
            "metadata": {},
            "source": "## Dataset\n\n*Describe the data that you will be using to solve the problem or execute your idea. Remember that you will need to use the Foursquare location data to solve the problem or execute your idea. You can absolutely use other datasets in combination with the Foursquare location data. So make sure that you provide adequate explanation and discussion, with examples, of the data that you will be using, even if it is only Foursquare location data.*\n\n**In this exercise, Foursquare API data of New York City will be used. The explore function will be used to understand the venue types and counts in each neighborhood. Then based on the venue categories, we can assess the imapct of a \"shelter in place\" order on each neighborhood, mainly whether there are essential businesses (pharmacies and grocery stores, for example) in the area**"
        },
        {
            "cell_type": "code",
            "execution_count": null,
            "metadata": {},
            "outputs": [],
            "source": ""
        }
    ],
    "metadata": {
        "kernelspec": {
            "display_name": "Python 3.6",
            "language": "python",
            "name": "python3"
        },
        "language_info": {
            "codemirror_mode": {
                "name": "ipython",
                "version": 3
            },
            "file_extension": ".py",
            "mimetype": "text/x-python",
            "name": "python",
            "nbconvert_exporter": "python",
            "pygments_lexer": "ipython3",
            "version": "3.6.9"
        }
    },
    "nbformat": 4,
    "nbformat_minor": 1
}